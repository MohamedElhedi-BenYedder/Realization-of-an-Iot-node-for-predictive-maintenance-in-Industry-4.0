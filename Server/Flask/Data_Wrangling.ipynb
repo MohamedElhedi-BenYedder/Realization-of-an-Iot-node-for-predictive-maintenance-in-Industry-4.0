{
 "cells": [
  {
   "cell_type": "code",
   "execution_count": 24,
   "metadata": {},
   "outputs": [],
   "source": [
    "#!pip3 install requests\n",
    "#!pip3 install pandas "
   ]
  },
  {
   "cell_type": "code",
   "execution_count": 93,
   "metadata": {
    "collapsed": false
   },
   "outputs": [],
   "source": [
    "import json as js\n",
    "import requests as rqs\n",
    "import pandas as pd\n",
    "import numpy as np\n",
    "import Config "
   ]
  },
  {
   "source": [
    "### Data Source ###\n",
    "apiUrl = Config.api_server_main_url\n",
    "url=apiUrl+'/engineCycle'\n",
    "engines = apiUrl+'/engine'\n",
    "r_engines = rqs.get(engines)\n",
    "data_engines = pd.json_normalize(r_engines.json())"
   ],
   "cell_type": "code",
   "metadata": {},
   "execution_count": 94,
   "outputs": []
  },
  {
   "cell_type": "markdown",
   "metadata": {},
   "source": [
    "### Load Data:"
   ]
  },
  {
   "cell_type": "code",
   "execution_count": 95,
   "metadata": {},
   "outputs": [
    {
     "output_type": "execute_result",
     "data": {
      "text/plain": [
       "  startDate endDate settings  lastCycleReached  id.engine.id  \\\n",
       "0      None    None     None             False             1   \n",
       "1      None    None     None             False             1   \n",
       "2      None    None     None             False             1   \n",
       "3      None    None     None             False             1   \n",
       "4      None    None     None             False             1   \n",
       "\n",
       "   id.engine.maintenanceIndex id.engine.lastTimeConnected  \\\n",
       "0                           0                        None   \n",
       "1                           0                        None   \n",
       "2                           0                        None   \n",
       "3                           0                        None   \n",
       "4                           0                        None   \n",
       "\n",
       "                               id.engine.description  id.engine.connected  \\\n",
       "0  vehicula. Pellentesque tincidunt tempus risus....                False   \n",
       "1  vehicula. Pellentesque tincidunt tempus risus....                False   \n",
       "2  vehicula. Pellentesque tincidunt tempus risus....                False   \n",
       "3  vehicula. Pellentesque tincidunt tempus risus....                False   \n",
       "4  vehicula. Pellentesque tincidunt tempus risus....                False   \n",
       "\n",
       "   id.cycle  ...  sensorsMax.az  sensorsMax.temperature  sensorsMax.humidity  \\\n",
       "0         0  ...      83.795992                 69.4011              89.4185   \n",
       "1         1  ...      85.659751                 69.7675              89.4874   \n",
       "2         2  ...      89.353644                 69.6655              89.1341   \n",
       "3         3  ...      88.569859                 68.2417              89.2790   \n",
       "4         4  ...      85.819984                 68.7235              89.9995   \n",
       "\n",
       "   sensorsMax.temperatureIndex  sensorsMin.ax  sensorsMin.ay  sensorsMin.az  \\\n",
       "0                          0.0     -77.904986     -79.539219     -89.343668   \n",
       "1                          0.0     -88.504482     -89.364603     -86.998806   \n",
       "2                          0.0     -88.332153     -89.697292     -89.405550   \n",
       "3                          0.0     -75.930179     -87.669944     -88.780239   \n",
       "4                          0.0     -85.067708     -89.246504     -89.532829   \n",
       "\n",
       "   sensorsMin.temperature  sensorsMin.humidity  sensorsMin.temperatureIndex  \n",
       "0                     0.0                  0.0                          0.0  \n",
       "1                     0.0                  0.0                          0.0  \n",
       "2                     0.0                  0.0                          0.0  \n",
       "3                     0.0                  0.0                          0.0  \n",
       "4                     0.0                  0.0                          0.0  \n",
       "\n",
       "[5 rows x 35 columns]"
      ],
      "text/html": "<div>\n<style scoped>\n    .dataframe tbody tr th:only-of-type {\n        vertical-align: middle;\n    }\n\n    .dataframe tbody tr th {\n        vertical-align: top;\n    }\n\n    .dataframe thead th {\n        text-align: right;\n    }\n</style>\n<table border=\"1\" class=\"dataframe\">\n  <thead>\n    <tr style=\"text-align: right;\">\n      <th></th>\n      <th>startDate</th>\n      <th>endDate</th>\n      <th>settings</th>\n      <th>lastCycleReached</th>\n      <th>id.engine.id</th>\n      <th>id.engine.maintenanceIndex</th>\n      <th>id.engine.lastTimeConnected</th>\n      <th>id.engine.description</th>\n      <th>id.engine.connected</th>\n      <th>id.cycle</th>\n      <th>...</th>\n      <th>sensorsMax.az</th>\n      <th>sensorsMax.temperature</th>\n      <th>sensorsMax.humidity</th>\n      <th>sensorsMax.temperatureIndex</th>\n      <th>sensorsMin.ax</th>\n      <th>sensorsMin.ay</th>\n      <th>sensorsMin.az</th>\n      <th>sensorsMin.temperature</th>\n      <th>sensorsMin.humidity</th>\n      <th>sensorsMin.temperatureIndex</th>\n    </tr>\n  </thead>\n  <tbody>\n    <tr>\n      <th>0</th>\n      <td>None</td>\n      <td>None</td>\n      <td>None</td>\n      <td>False</td>\n      <td>1</td>\n      <td>0</td>\n      <td>None</td>\n      <td>vehicula. Pellentesque tincidunt tempus risus....</td>\n      <td>False</td>\n      <td>0</td>\n      <td>...</td>\n      <td>83.795992</td>\n      <td>69.4011</td>\n      <td>89.4185</td>\n      <td>0.0</td>\n      <td>-77.904986</td>\n      <td>-79.539219</td>\n      <td>-89.343668</td>\n      <td>0.0</td>\n      <td>0.0</td>\n      <td>0.0</td>\n    </tr>\n    <tr>\n      <th>1</th>\n      <td>None</td>\n      <td>None</td>\n      <td>None</td>\n      <td>False</td>\n      <td>1</td>\n      <td>0</td>\n      <td>None</td>\n      <td>vehicula. Pellentesque tincidunt tempus risus....</td>\n      <td>False</td>\n      <td>1</td>\n      <td>...</td>\n      <td>85.659751</td>\n      <td>69.7675</td>\n      <td>89.4874</td>\n      <td>0.0</td>\n      <td>-88.504482</td>\n      <td>-89.364603</td>\n      <td>-86.998806</td>\n      <td>0.0</td>\n      <td>0.0</td>\n      <td>0.0</td>\n    </tr>\n    <tr>\n      <th>2</th>\n      <td>None</td>\n      <td>None</td>\n      <td>None</td>\n      <td>False</td>\n      <td>1</td>\n      <td>0</td>\n      <td>None</td>\n      <td>vehicula. Pellentesque tincidunt tempus risus....</td>\n      <td>False</td>\n      <td>2</td>\n      <td>...</td>\n      <td>89.353644</td>\n      <td>69.6655</td>\n      <td>89.1341</td>\n      <td>0.0</td>\n      <td>-88.332153</td>\n      <td>-89.697292</td>\n      <td>-89.405550</td>\n      <td>0.0</td>\n      <td>0.0</td>\n      <td>0.0</td>\n    </tr>\n    <tr>\n      <th>3</th>\n      <td>None</td>\n      <td>None</td>\n      <td>None</td>\n      <td>False</td>\n      <td>1</td>\n      <td>0</td>\n      <td>None</td>\n      <td>vehicula. Pellentesque tincidunt tempus risus....</td>\n      <td>False</td>\n      <td>3</td>\n      <td>...</td>\n      <td>88.569859</td>\n      <td>68.2417</td>\n      <td>89.2790</td>\n      <td>0.0</td>\n      <td>-75.930179</td>\n      <td>-87.669944</td>\n      <td>-88.780239</td>\n      <td>0.0</td>\n      <td>0.0</td>\n      <td>0.0</td>\n    </tr>\n    <tr>\n      <th>4</th>\n      <td>None</td>\n      <td>None</td>\n      <td>None</td>\n      <td>False</td>\n      <td>1</td>\n      <td>0</td>\n      <td>None</td>\n      <td>vehicula. Pellentesque tincidunt tempus risus....</td>\n      <td>False</td>\n      <td>4</td>\n      <td>...</td>\n      <td>85.819984</td>\n      <td>68.7235</td>\n      <td>89.9995</td>\n      <td>0.0</td>\n      <td>-85.067708</td>\n      <td>-89.246504</td>\n      <td>-89.532829</td>\n      <td>0.0</td>\n      <td>0.0</td>\n      <td>0.0</td>\n    </tr>\n  </tbody>\n</table>\n<p>5 rows × 35 columns</p>\n</div>"
     },
     "metadata": {},
     "execution_count": 95
    }
   ],
   "source": [
    "r = rqs.get(url)\n",
    "data = pd.json_normalize(r.json())\n",
    "data"
   ]
  },
  {
   "source": [
    "### Data Columns\n",
    "\n",
    "•\t__engine__: | engine.id : is the engine ID, ranging from 1 to Ne | engine.description : is the description of the engine | engine.state : True if the engine reach the last cycle else False |    \n",
    "•\t__cycle__: per engine sequence, starts from 1 to the cycle number where failure had happened    \n",
    "•\t__settings__: engine operational settings  \n",
    "•\t__sensors__: sensors measurements  \n"
   ],
   "cell_type": "markdown",
   "metadata": {}
  },
  {
   "cell_type": "code",
   "execution_count": 96,
   "metadata": {},
   "outputs": [
    {
     "output_type": "execute_result",
     "data": {
      "text/plain": [
       "Index(['startDate', 'endDate', 'settings', 'lastCycleReached', 'id.engine.id',\n",
       "       'id.engine.maintenanceIndex', 'id.engine.lastTimeConnected',\n",
       "       'id.engine.description', 'id.engine.connected', 'id.cycle',\n",
       "       'id.maintenanceIndex', 'sensorsAvg.ax', 'sensorsAvg.ay',\n",
       "       'sensorsAvg.az', 'sensorsAvg.temperature', 'sensorsAvg.humidity',\n",
       "       'sensorsAvg.temperatureIndex', 'sensorsStd.ax', 'sensorsStd.ay',\n",
       "       'sensorsStd.az', 'sensorsStd.temperature', 'sensorsStd.humidity',\n",
       "       'sensorsStd.temperatureIndex', 'sensorsMax.ax', 'sensorsMax.ay',\n",
       "       'sensorsMax.az', 'sensorsMax.temperature', 'sensorsMax.humidity',\n",
       "       'sensorsMax.temperatureIndex', 'sensorsMin.ax', 'sensorsMin.ay',\n",
       "       'sensorsMin.az', 'sensorsMin.temperature', 'sensorsMin.humidity',\n",
       "       'sensorsMin.temperatureIndex'],\n",
       "      dtype='object')"
      ]
     },
     "metadata": {},
     "execution_count": 96
    }
   ],
   "source": [
    "df.fillna(0,inplace=True)\n",
    "df.columns"
   ]
  },
  {
   "cell_type": "markdown",
   "metadata": {},
   "source": [
    "There are Ne engines. each engine has between 1 to Nc cycles.\n",
    "The last cycle for each engine represents the cycle when failure had happened."
   ]
  },
  {
   "cell_type": "code",
   "execution_count": 97,
   "metadata": {
    "collapsed": false
   },
   "outputs": [
    {
     "output_type": "execute_result",
     "data": {
      "text/plain": [
       "True"
      ]
     },
     "metadata": {},
     "execution_count": 97
    }
   ],
   "source": [
    "# check the data types\n",
    "df.dtypes\n",
    "isinstance(df,pd.DataFrame)"
   ]
  },
  {
   "cell_type": "markdown",
   "metadata": {},
   "source": [
    "All data columns are numeric."
   ]
  },
  {
   "cell_type": "code",
   "execution_count": 112,
   "metadata": {
    "collapsed": false
   },
   "outputs": [
    {
     "output_type": "execute_result",
     "data": {
      "text/plain": [
       "Index(['id.cycle'], dtype='object')"
      ]
     },
     "metadata": {},
     "execution_count": 112
    }
   ],
   "source": [
    "# check for NaN values\n",
    "\n",
    "df.isnull().sum()"
   ]
  },
  {
   "cell_type": "markdown",
   "metadata": {
    "collapsed": true
   },
   "source": [
    "No missing values. This is a clean dataset!\n",
    "now let us add some features to smooth the sensors reading: rolling average and rolling standard deviation."
   ]
  },
  {
   "cell_type": "markdown",
   "metadata": {},
   "source": [
    "### Feature Extraction:"
   ]
  },
  {
   "cell_type": "markdown",
   "metadata": {},
   "source": [
    "Create helper function to create features based on smoothing the time series for sensors by adding rolling mean and rolling standard deviation"
   ]
  },
  {
   "cell_type": "code",
   "execution_count": 86,
   "metadata": {
    "collapsed": true
   },
   "outputs": [],
   "source": [
    "\n",
    "def add_features(df_in, rolling_win_size,columns_to_treat):\n",
    "    \n",
    "    \"\"\"Add rolling average and rolling standard deviation for sensors readings using fixed rolling window size.\n",
    "    \n",
    "    Args:\n",
    "            df_in (dataframe)     : The input dataframe to be proccessed (training or test) \n",
    "            rolling_win_size (int): The window size, number of cycles for applying the rolling function\n",
    "        \n",
    "    Reurns:\n",
    "            dataframe: contains the input dataframe with additional rolling mean and std for each sensor\n",
    "    \n",
    "    \"\"\"\n",
    "    \n",
    "    av_cols = [nm+'__av' for nm in columns_to_treat]\n",
    "    sd_cols = [nm+'__sd' for nm in columns_to_treat]\n",
    "    min_cols =[nm+'__min' for nm in columns_to_treat]\n",
    "    max_cols =[nm+ '__max' for nm in columns_to_treat]\n",
    "    \n",
    "    df_out = pd.DataFrame()\n",
    "    \n",
    "    ws = rolling_win_size\n",
    "    \n",
    "    #calculate rolling stats for each engine (engine.id)\n",
    "    \n",
    "    for m_id in pd.unique(df_in['id.engine.id']):\n",
    "    \n",
    "        # get a subset for each engine sensors\n",
    "        df_engine = df_in[df_in['id.engine.id'] == m_id]\n",
    "        df_sub = df_engine[columns_to_treat]\n",
    "\n",
    "    \n",
    "        # get rolling mean for the subset\n",
    "        av = df_sub.rolling(ws, min_periods=1).mean()\n",
    "        av.columns = av_cols\n",
    "    \n",
    "        # get the rolling standard deviation for the subset\n",
    "        sd = df_sub.rolling(ws, min_periods=1).std().fillna(0)\n",
    "        sd.columns = sd_cols\n",
    "\n",
    "        # get rolling rolling max for the subset\n",
    "        max = df_sub.rolling(ws, min_periods=1).max()\n",
    "        max.columns = max_cols\n",
    "        \n",
    "        # get the rolling standard deviation for the subset\n",
    "        min = df_sub.rolling(ws, min_periods=1).min().fillna(0)\n",
    "        min.columns = min_cols\n",
    "    \n",
    "        # combine the two new subset dataframes columns to the engine subset\n",
    "        new_ftrs = pd.concat([df_engine,av,sd,min,max], axis=1)\n",
    "    \n",
    "        # add the new features rows to the output dataframe\n",
    "        df_out = pd.concat([df_out,new_ftrs])\n",
    "        \n",
    "    return df_out"
   ]
  },
  {
   "cell_type": "markdown",
   "metadata": {},
   "source": [
    "create helper function to add the regression and classification labels to the training data"
   ]
  },
  {
   "cell_type": "code",
   "execution_count": 113,
   "metadata": {
    "collapsed": false
   },
   "outputs": [],
   "source": [
    "\n",
    "def find_labels(df_in, period):\n",
    "    \n",
    "    \"\"\"Add regression and classification labels to the training data.\n",
    "\n",
    "        Regression label: label.ttf (time-to-failure) = each cycle# for an engine subtracted from the last cycle# of the same engine\n",
    "        Binary classification label: label.bnc = if ttf is <= parameter period then 1 else 0 (values = 0,1)\n",
    "        Multi-class classification label: label.mcc = 2 if ttf <= 0.5* parameter period , 1 if ttf<= parameter period, else 2\n",
    "        \n",
    "      Args:\n",
    "          df_in (dataframe): The input training data\n",
    "          period (int)     : The number of cycles for TTF segmentation. Used to derive classification labels\n",
    "          \n",
    "      Returns:\n",
    "          dataframe: The input dataframe with regression and classification labels added\n",
    "          \n",
    "    \"\"\"\n",
    "    \n",
    "    #create regression label\n",
    "    \n",
    "    #make a dataframe to hold the last cycle for each enginge in the dataset\n",
    "    df_max_cycle = pd.DataFrame(df_in.groupby(['id.engine.id','id.maintenanceIndex'])['id.cycle'].max())\n",
    "    df_max_cycle.reset_index(inplace=True)\n",
    "    df_max_cycle.columns = ['id.engine.id','id.maintenanceIndex', 'lastCycle']\n",
    "    \n",
    "    #add time-to-failure ttf as a new column - regression label\n",
    "    df_in = pd.merge(df_in, df_max_cycle, on=['id.engine.id','id.maintenanceIndex'])\n",
    "    df_in['labels.ttf'] = df_in['lastCycle'] - df_in['id.cycle']\n",
    "    #df_in.drop(['lastCycleReached'], axis=1, inplace=True)\n",
    "    \n",
    "    #create binary classification label\n",
    "    df_in['labels.bnc'] = df_in['labels.ttf'].apply(lambda x: 1 if x <= period else 0)\n",
    "    \n",
    "    #create multi-class classification label\n",
    "    df_in['labels.mcc'] = df_in['labels.ttf'].apply(lambda x: 2 if x <= period/2 else 1 if x <= period else 0)\n",
    "    \n",
    "    return df_in\n",
    "    "
   ]
  },
  {
   "cell_type": "markdown",
   "metadata": {},
   "source": [
    "create helper function to add the regression and classification labels to the training data"
   ]
  },
  {
   "cell_type": "markdown",
   "metadata": {},
   "source": [
    "With the help of these functions, let us prepare training and test data by adding features and labels"
   ]
  },
  {
   "cell_type": "markdown",
   "metadata": {},
   "source": [
    "### Prepare the Data:"
   ]
  },
  {
   "cell_type": "code",
   "execution_count": 88,
   "metadata": {},
   "outputs": [
    {
     "output_type": "execute_result",
     "data": {
      "text/plain": [
       "['sensorsAvg.ax',\n",
       " 'sensorsAvg.ay',\n",
       " 'sensorsAvg.az',\n",
       " 'sensorsAvg.temperature',\n",
       " 'sensorsAvg.humidity',\n",
       " 'sensorsAvg.temperatureIndex',\n",
       " 'sensorsStd.ax',\n",
       " 'sensorsStd.ay',\n",
       " 'sensorsStd.az',\n",
       " 'sensorsStd.temperature',\n",
       " 'sensorsStd.humidity',\n",
       " 'sensorsStd.temperatureIndex',\n",
       " 'sensorsMax.ax',\n",
       " 'sensorsMax.ay',\n",
       " 'sensorsMax.az',\n",
       " 'sensorsMax.temperature',\n",
       " 'sensorsMax.humidity',\n",
       " 'sensorsMax.temperatureIndex',\n",
       " 'sensorsMin.ax',\n",
       " 'sensorsMin.ay',\n",
       " 'sensorsMin.az',\n",
       " 'sensorsMin.temperature',\n",
       " 'sensorsMin.humidity',\n",
       " 'sensorsMin.temperatureIndex']"
      ]
     },
     "metadata": {},
     "execution_count": 88
    }
   ],
   "source": [
    "# choose parameters\n",
    "period = 1\n",
    "columns_to_treat = [k for k in df.columns if 'sensors' in k]\n",
    "columns_to_treat"
   ]
  },
  {
   "cell_type": "code",
   "execution_count": 89,
   "metadata": {
    "collapsed": false
   },
   "outputs": [
    {
     "output_type": "execute_result",
     "data": {
      "text/plain": [
       "   startDate  endDate  settings  lastCycleReached  id.engine.id  \\\n",
       "0          0        0         0             False             1   \n",
       "1          0        0         0             False             1   \n",
       "2          0        0         0             False             1   \n",
       "3          0        0         0             False             1   \n",
       "4          0        0         0             False             1   \n",
       "\n",
       "                               id.engine.description  \\\n",
       "0  vehicula. Pellentesque tincidunt tempus risus....   \n",
       "1  vehicula. Pellentesque tincidunt tempus risus....   \n",
       "2  vehicula. Pellentesque tincidunt tempus risus....   \n",
       "3  vehicula. Pellentesque tincidunt tempus risus....   \n",
       "4  vehicula. Pellentesque tincidunt tempus risus....   \n",
       "\n",
       "   id.engine.maintenanceIndex  id.engine.lastTimeConnected  \\\n",
       "0                           0                            0   \n",
       "1                           0                            0   \n",
       "2                           0                            0   \n",
       "3                           0                            0   \n",
       "4                           0                            0   \n",
       "\n",
       "   id.engine.connected  id.cycle  ...  sensorsMax.az__max  \\\n",
       "0                False         0  ...           83.795992   \n",
       "1                False         1  ...           85.659751   \n",
       "2                False         2  ...           89.353644   \n",
       "3                False         3  ...           88.569859   \n",
       "4                False         4  ...           85.819984   \n",
       "\n",
       "   sensorsMax.temperature__max  sensorsMax.humidity__max  \\\n",
       "0                      69.4011                   89.4185   \n",
       "1                      69.7675                   89.4874   \n",
       "2                      69.6655                   89.1341   \n",
       "3                      68.2417                   89.2790   \n",
       "4                      68.7235                   89.9995   \n",
       "\n",
       "   sensorsMax.temperatureIndex__max  sensorsMin.ax__max  sensorsMin.ay__max  \\\n",
       "0                               0.0          -77.904986          -79.539219   \n",
       "1                               0.0          -88.504482          -89.364603   \n",
       "2                               0.0          -88.332153          -89.697292   \n",
       "3                               0.0          -75.930179          -87.669944   \n",
       "4                               0.0          -85.067708          -89.246504   \n",
       "\n",
       "   sensorsMin.az__max  sensorsMin.temperature__max  sensorsMin.humidity__max  \\\n",
       "0          -89.343668                          0.0                       0.0   \n",
       "1          -86.998806                          0.0                       0.0   \n",
       "2          -89.405550                          0.0                       0.0   \n",
       "3          -88.780239                          0.0                       0.0   \n",
       "4          -89.532829                          0.0                       0.0   \n",
       "\n",
       "   sensorsMin.temperatureIndex__max  \n",
       "0                               0.0  \n",
       "1                               0.0  \n",
       "2                               0.0  \n",
       "3                               0.0  \n",
       "4                               0.0  \n",
       "\n",
       "[5 rows x 131 columns]"
      ],
      "text/html": "<div>\n<style scoped>\n    .dataframe tbody tr th:only-of-type {\n        vertical-align: middle;\n    }\n\n    .dataframe tbody tr th {\n        vertical-align: top;\n    }\n\n    .dataframe thead th {\n        text-align: right;\n    }\n</style>\n<table border=\"1\" class=\"dataframe\">\n  <thead>\n    <tr style=\"text-align: right;\">\n      <th></th>\n      <th>startDate</th>\n      <th>endDate</th>\n      <th>settings</th>\n      <th>lastCycleReached</th>\n      <th>id.engine.id</th>\n      <th>id.engine.description</th>\n      <th>id.engine.maintenanceIndex</th>\n      <th>id.engine.lastTimeConnected</th>\n      <th>id.engine.connected</th>\n      <th>id.cycle</th>\n      <th>...</th>\n      <th>sensorsMax.az__max</th>\n      <th>sensorsMax.temperature__max</th>\n      <th>sensorsMax.humidity__max</th>\n      <th>sensorsMax.temperatureIndex__max</th>\n      <th>sensorsMin.ax__max</th>\n      <th>sensorsMin.ay__max</th>\n      <th>sensorsMin.az__max</th>\n      <th>sensorsMin.temperature__max</th>\n      <th>sensorsMin.humidity__max</th>\n      <th>sensorsMin.temperatureIndex__max</th>\n    </tr>\n  </thead>\n  <tbody>\n    <tr>\n      <th>0</th>\n      <td>0</td>\n      <td>0</td>\n      <td>0</td>\n      <td>False</td>\n      <td>1</td>\n      <td>vehicula. Pellentesque tincidunt tempus risus....</td>\n      <td>0</td>\n      <td>0</td>\n      <td>False</td>\n      <td>0</td>\n      <td>...</td>\n      <td>83.795992</td>\n      <td>69.4011</td>\n      <td>89.4185</td>\n      <td>0.0</td>\n      <td>-77.904986</td>\n      <td>-79.539219</td>\n      <td>-89.343668</td>\n      <td>0.0</td>\n      <td>0.0</td>\n      <td>0.0</td>\n    </tr>\n    <tr>\n      <th>1</th>\n      <td>0</td>\n      <td>0</td>\n      <td>0</td>\n      <td>False</td>\n      <td>1</td>\n      <td>vehicula. Pellentesque tincidunt tempus risus....</td>\n      <td>0</td>\n      <td>0</td>\n      <td>False</td>\n      <td>1</td>\n      <td>...</td>\n      <td>85.659751</td>\n      <td>69.7675</td>\n      <td>89.4874</td>\n      <td>0.0</td>\n      <td>-88.504482</td>\n      <td>-89.364603</td>\n      <td>-86.998806</td>\n      <td>0.0</td>\n      <td>0.0</td>\n      <td>0.0</td>\n    </tr>\n    <tr>\n      <th>2</th>\n      <td>0</td>\n      <td>0</td>\n      <td>0</td>\n      <td>False</td>\n      <td>1</td>\n      <td>vehicula. Pellentesque tincidunt tempus risus....</td>\n      <td>0</td>\n      <td>0</td>\n      <td>False</td>\n      <td>2</td>\n      <td>...</td>\n      <td>89.353644</td>\n      <td>69.6655</td>\n      <td>89.1341</td>\n      <td>0.0</td>\n      <td>-88.332153</td>\n      <td>-89.697292</td>\n      <td>-89.405550</td>\n      <td>0.0</td>\n      <td>0.0</td>\n      <td>0.0</td>\n    </tr>\n    <tr>\n      <th>3</th>\n      <td>0</td>\n      <td>0</td>\n      <td>0</td>\n      <td>False</td>\n      <td>1</td>\n      <td>vehicula. Pellentesque tincidunt tempus risus....</td>\n      <td>0</td>\n      <td>0</td>\n      <td>False</td>\n      <td>3</td>\n      <td>...</td>\n      <td>88.569859</td>\n      <td>68.2417</td>\n      <td>89.2790</td>\n      <td>0.0</td>\n      <td>-75.930179</td>\n      <td>-87.669944</td>\n      <td>-88.780239</td>\n      <td>0.0</td>\n      <td>0.0</td>\n      <td>0.0</td>\n    </tr>\n    <tr>\n      <th>4</th>\n      <td>0</td>\n      <td>0</td>\n      <td>0</td>\n      <td>False</td>\n      <td>1</td>\n      <td>vehicula. Pellentesque tincidunt tempus risus....</td>\n      <td>0</td>\n      <td>0</td>\n      <td>False</td>\n      <td>4</td>\n      <td>...</td>\n      <td>85.819984</td>\n      <td>68.7235</td>\n      <td>89.9995</td>\n      <td>0.0</td>\n      <td>-85.067708</td>\n      <td>-89.246504</td>\n      <td>-89.532829</td>\n      <td>0.0</td>\n      <td>0.0</td>\n      <td>0.0</td>\n    </tr>\n  </tbody>\n</table>\n<p>5 rows × 131 columns</p>\n</div>"
     },
     "metadata": {},
     "execution_count": 89
    }
   ],
   "source": [
    "# add extracted features to training data\n",
    "df_fx = add_features(df, period,columns_to_treat)\n",
    "df_fx.head()"
   ]
  },
  {
   "cell_type": "code",
   "execution_count": 90,
   "metadata": {
    "collapsed": false
   },
   "outputs": [
    {
     "output_type": "execute_result",
     "data": {
      "text/plain": [
       "   startDate  endDate  settings  lastCycleReached  id.engine.id  \\\n",
       "0          0        0         0             False             1   \n",
       "1          0        0         0             False             1   \n",
       "2          0        0         0             False             1   \n",
       "3          0        0         0             False             1   \n",
       "4          0        0         0             False             1   \n",
       "\n",
       "                               id.engine.description  \\\n",
       "0  vehicula. Pellentesque tincidunt tempus risus....   \n",
       "1  vehicula. Pellentesque tincidunt tempus risus....   \n",
       "2  vehicula. Pellentesque tincidunt tempus risus....   \n",
       "3  vehicula. Pellentesque tincidunt tempus risus....   \n",
       "4  vehicula. Pellentesque tincidunt tempus risus....   \n",
       "\n",
       "   id.engine.maintenanceIndex  id.engine.lastTimeConnected  \\\n",
       "0                           0                            0   \n",
       "1                           0                            0   \n",
       "2                           0                            0   \n",
       "3                           0                            0   \n",
       "4                           0                            0   \n",
       "\n",
       "   id.engine.connected  id.cycle  ...  sensorsMin.ax__max  sensorsMin.ay__max  \\\n",
       "0                False         0  ...          -77.904986          -79.539219   \n",
       "1                False         1  ...          -88.504482          -89.364603   \n",
       "2                False         2  ...          -88.332153          -89.697292   \n",
       "3                False         3  ...          -75.930179          -87.669944   \n",
       "4                False         4  ...          -85.067708          -89.246504   \n",
       "\n",
       "   sensorsMin.az__max  sensorsMin.temperature__max  sensorsMin.humidity__max  \\\n",
       "0          -89.343668                          0.0                       0.0   \n",
       "1          -86.998806                          0.0                       0.0   \n",
       "2          -89.405550                          0.0                       0.0   \n",
       "3          -88.780239                          0.0                       0.0   \n",
       "4          -89.532829                          0.0                       0.0   \n",
       "\n",
       "   sensorsMin.temperatureIndex__max  lastCycle  labels.ttf  labels.bnc  \\\n",
       "0                               0.0          4           4           1   \n",
       "1                               0.0          4           3           1   \n",
       "2                               0.0          4           2           1   \n",
       "3                               0.0          4           1           1   \n",
       "4                               0.0          4           0           1   \n",
       "\n",
       "   labels.mcc  \n",
       "0           1  \n",
       "1           1  \n",
       "2           2  \n",
       "3           2  \n",
       "4           2  \n",
       "\n",
       "[5 rows x 135 columns]"
      ],
      "text/html": "<div>\n<style scoped>\n    .dataframe tbody tr th:only-of-type {\n        vertical-align: middle;\n    }\n\n    .dataframe tbody tr th {\n        vertical-align: top;\n    }\n\n    .dataframe thead th {\n        text-align: right;\n    }\n</style>\n<table border=\"1\" class=\"dataframe\">\n  <thead>\n    <tr style=\"text-align: right;\">\n      <th></th>\n      <th>startDate</th>\n      <th>endDate</th>\n      <th>settings</th>\n      <th>lastCycleReached</th>\n      <th>id.engine.id</th>\n      <th>id.engine.description</th>\n      <th>id.engine.maintenanceIndex</th>\n      <th>id.engine.lastTimeConnected</th>\n      <th>id.engine.connected</th>\n      <th>id.cycle</th>\n      <th>...</th>\n      <th>sensorsMin.ax__max</th>\n      <th>sensorsMin.ay__max</th>\n      <th>sensorsMin.az__max</th>\n      <th>sensorsMin.temperature__max</th>\n      <th>sensorsMin.humidity__max</th>\n      <th>sensorsMin.temperatureIndex__max</th>\n      <th>lastCycle</th>\n      <th>labels.ttf</th>\n      <th>labels.bnc</th>\n      <th>labels.mcc</th>\n    </tr>\n  </thead>\n  <tbody>\n    <tr>\n      <th>0</th>\n      <td>0</td>\n      <td>0</td>\n      <td>0</td>\n      <td>False</td>\n      <td>1</td>\n      <td>vehicula. Pellentesque tincidunt tempus risus....</td>\n      <td>0</td>\n      <td>0</td>\n      <td>False</td>\n      <td>0</td>\n      <td>...</td>\n      <td>-77.904986</td>\n      <td>-79.539219</td>\n      <td>-89.343668</td>\n      <td>0.0</td>\n      <td>0.0</td>\n      <td>0.0</td>\n      <td>4</td>\n      <td>4</td>\n      <td>1</td>\n      <td>1</td>\n    </tr>\n    <tr>\n      <th>1</th>\n      <td>0</td>\n      <td>0</td>\n      <td>0</td>\n      <td>False</td>\n      <td>1</td>\n      <td>vehicula. Pellentesque tincidunt tempus risus....</td>\n      <td>0</td>\n      <td>0</td>\n      <td>False</td>\n      <td>1</td>\n      <td>...</td>\n      <td>-88.504482</td>\n      <td>-89.364603</td>\n      <td>-86.998806</td>\n      <td>0.0</td>\n      <td>0.0</td>\n      <td>0.0</td>\n      <td>4</td>\n      <td>3</td>\n      <td>1</td>\n      <td>1</td>\n    </tr>\n    <tr>\n      <th>2</th>\n      <td>0</td>\n      <td>0</td>\n      <td>0</td>\n      <td>False</td>\n      <td>1</td>\n      <td>vehicula. Pellentesque tincidunt tempus risus....</td>\n      <td>0</td>\n      <td>0</td>\n      <td>False</td>\n      <td>2</td>\n      <td>...</td>\n      <td>-88.332153</td>\n      <td>-89.697292</td>\n      <td>-89.405550</td>\n      <td>0.0</td>\n      <td>0.0</td>\n      <td>0.0</td>\n      <td>4</td>\n      <td>2</td>\n      <td>1</td>\n      <td>2</td>\n    </tr>\n    <tr>\n      <th>3</th>\n      <td>0</td>\n      <td>0</td>\n      <td>0</td>\n      <td>False</td>\n      <td>1</td>\n      <td>vehicula. Pellentesque tincidunt tempus risus....</td>\n      <td>0</td>\n      <td>0</td>\n      <td>False</td>\n      <td>3</td>\n      <td>...</td>\n      <td>-75.930179</td>\n      <td>-87.669944</td>\n      <td>-88.780239</td>\n      <td>0.0</td>\n      <td>0.0</td>\n      <td>0.0</td>\n      <td>4</td>\n      <td>1</td>\n      <td>1</td>\n      <td>2</td>\n    </tr>\n    <tr>\n      <th>4</th>\n      <td>0</td>\n      <td>0</td>\n      <td>0</td>\n      <td>False</td>\n      <td>1</td>\n      <td>vehicula. Pellentesque tincidunt tempus risus....</td>\n      <td>0</td>\n      <td>0</td>\n      <td>False</td>\n      <td>4</td>\n      <td>...</td>\n      <td>-85.067708</td>\n      <td>-89.246504</td>\n      <td>-89.532829</td>\n      <td>0.0</td>\n      <td>0.0</td>\n      <td>0.0</td>\n      <td>4</td>\n      <td>0</td>\n      <td>1</td>\n      <td>2</td>\n    </tr>\n  </tbody>\n</table>\n<p>5 rows × 135 columns</p>\n</div>"
     },
     "metadata": {},
     "execution_count": 90
    }
   ],
   "source": [
    "#add labels to training data using period of 30 cycles for classification\n",
    "\n",
    "df_labels = find_labels (df_fx, period)\n",
    "df_labels.head()"
   ]
  },
  {
   "cell_type": "code",
   "execution_count": 78,
   "metadata": {
    "collapsed": false
   },
   "outputs": [
    {
     "output_type": "execute_result",
     "data": {
      "text/plain": [
       "startDate                             int64\n",
       "endDate                               int64\n",
       "settings                              int64\n",
       "lastCycleReached                       bool\n",
       "id.engine.id                          int64\n",
       "                                     ...   \n",
       "sensorsMin.temperatureIndex__max    float64\n",
       "lastCycle                             int64\n",
       "labels.ttf                            int64\n",
       "labels.bnc                            int64\n",
       "labels.mcc                            int64\n",
       "Length: 135, dtype: object"
      ]
     },
     "metadata": {},
     "execution_count": 78
    }
   ],
   "source": [
    "df_labels.dtypes"
   ]
  },
  {
   "cell_type": "markdown",
   "metadata": {},
   "source": [
    "Rolling average, rolling standard deviation, regression labels, and classification labels have been added to the data.  \n",
    "\n",
    "Let us save the dataframe for later use in data exploration and modeling phases."
   ]
  },
  {
   "cell_type": "code",
   "execution_count": 79,
   "metadata": {
    "collapsed": true
   },
   "outputs": [],
   "source": [
    "# save the training data to csv file for later use\n",
    "\n",
    "df_labels.to_csv(Config.data_wrangling, index=False)"
   ]
  },
  {
   "cell_type": "code",
   "execution_count": null,
   "metadata": {},
   "outputs": [],
   "source": []
  }
 ],
 "metadata": {
  "anaconda-cloud": {},
  "kernelspec": {
   "name": "python385jvsc74a57bd0916dbcbb3f70747c44a77c7bcd40155683ae19c65e1c03b4aa3499c5328201f1",
   "display_name": "Python 3.8.5 64-bit"
  },
  "language_info": {
   "codemirror_mode": {
    "name": "ipython",
    "version": 3
   },
   "file_extension": ".py",
   "mimetype": "text/x-python",
   "name": "python",
   "nbconvert_exporter": "python",
   "pygments_lexer": "ipython3",
   "version": "3.8.5"
  },
  "metadata": {
   "interpreter": {
    "hash": "916dbcbb3f70747c44a77c7bcd40155683ae19c65e1c03b4aa3499c5328201f1"
   }
  }
 },
 "nbformat": 4,
 "nbformat_minor": 2
}