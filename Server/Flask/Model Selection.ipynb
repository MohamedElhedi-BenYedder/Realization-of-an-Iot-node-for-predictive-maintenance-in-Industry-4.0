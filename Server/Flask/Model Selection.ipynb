{
 "cells": [
  {
   "cell_type": "code",
   "execution_count": 60,
   "metadata": {
    "collapsed": false
   },
   "outputs": [],
   "source": [
    "#!pip3 install matplotlib\n",
    "#!pip3 install sklearn\n",
    "import pandas as pd\n",
    "import numpy as np\n",
    "\n",
    "\n",
    "import matplotlib.pyplot as plt\n",
    "plt.style.use('ggplot')\n",
    "#%matplotlib inline  \n",
    "\n",
    "from sklearn import linear_model\n",
    "from sklearn.ensemble import RandomForestRegressor\n",
    "from sklearn.model_selection import train_test_split\n",
    "\n",
    "from sklearn import model_selection #import cross_val_score, StratifiedKFold\n",
    "from sklearn.tree import DecisionTreeRegressor, DecisionTreeClassifier, export_graphviz\n",
    "from sklearn import metrics  # mean_squared_error, mean_absolute_error, median_absolute_error, explained_variance_score, r2_score\n",
    "from sklearn.feature_selection import SelectFromModel, RFECV\n",
    "import Config \n",
    "import EDA\n",
    "#binary classification\n",
    "from sklearn.linear_model import LogisticRegression\n",
    "from sklearn.ensemble import RandomForestClassifier\n",
    "from sklearn.svm import SVC, LinearSVC\n",
    "from sklearn.tree import DecisionTreeClassifier, export_graphviz\n",
    "from sklearn.neighbors import KNeighborsClassifier\n",
    "from sklearn.naive_bayes import GaussianNB\n",
    "\n",
    "from sklearn import metrics\n",
    "\n",
    "from sklearn import model_selection\n",
    "\n"
   ]
  },
  {
   "cell_type": "markdown",
   "metadata": {},
   "source": [
    "### Load Data:"
   ]
  },
  {
   "cell_type": "code",
   "execution_count": 61,
   "metadata": {
    "collapsed": false
   },
   "outputs": [
    {
     "output_type": "execute_result",
     "data": {
      "text/plain": [
       "   startDate  endDate  settings  lastCycleReached  id.engine.id  \\\n",
       "0          0        0         0             False             1   \n",
       "1          0        0         0             False             1   \n",
       "2          0        0         0             False             1   \n",
       "3          0        0         0             False             1   \n",
       "4          0        0         0             False             1   \n",
       "\n",
       "   id.engine.maintenanceIndex  id.engine.lastTimeConnected  \\\n",
       "0                           0                            0   \n",
       "1                           0                            0   \n",
       "2                           0                            0   \n",
       "3                           0                            0   \n",
       "4                           0                            0   \n",
       "\n",
       "                               id.engine.description  id.engine.connected  \\\n",
       "0  vehicula. Pellentesque tincidunt tempus risus....                False   \n",
       "1  vehicula. Pellentesque tincidunt tempus risus....                False   \n",
       "2  vehicula. Pellentesque tincidunt tempus risus....                False   \n",
       "3  vehicula. Pellentesque tincidunt tempus risus....                False   \n",
       "4  vehicula. Pellentesque tincidunt tempus risus....                False   \n",
       "\n",
       "   id.cycle  ...  sensorsMin.ax__max  sensorsMin.ay__max  sensorsMin.az__max  \\\n",
       "0         0  ...          -77.904986          -79.539219          -89.343668   \n",
       "1         1  ...          -88.504482          -89.364603          -86.998806   \n",
       "2         2  ...          -88.332153          -89.697292          -89.405550   \n",
       "3         3  ...          -75.930179          -87.669944          -88.780239   \n",
       "4         4  ...          -85.067708          -89.246504          -89.532829   \n",
       "\n",
       "   sensorsMin.temperature__max  sensorsMin.humidity__max  \\\n",
       "0                          0.0                       0.0   \n",
       "1                          0.0                       0.0   \n",
       "2                          0.0                       0.0   \n",
       "3                          0.0                       0.0   \n",
       "4                          0.0                       0.0   \n",
       "\n",
       "   sensorsMin.temperatureIndex__max  lastCycle  labels.ttf  labels.bnc  \\\n",
       "0                               0.0          4           4           0   \n",
       "1                               0.0          4           3           0   \n",
       "2                               0.0          4           2           0   \n",
       "3                               0.0          4           1           1   \n",
       "4                               0.0          4           0           1   \n",
       "\n",
       "   labels.mcc  \n",
       "0           0  \n",
       "1           0  \n",
       "2           0  \n",
       "3           1  \n",
       "4           2  \n",
       "\n",
       "[5 rows x 135 columns]"
      ],
      "text/html": "<div>\n<style scoped>\n    .dataframe tbody tr th:only-of-type {\n        vertical-align: middle;\n    }\n\n    .dataframe tbody tr th {\n        vertical-align: top;\n    }\n\n    .dataframe thead th {\n        text-align: right;\n    }\n</style>\n<table border=\"1\" class=\"dataframe\">\n  <thead>\n    <tr style=\"text-align: right;\">\n      <th></th>\n      <th>startDate</th>\n      <th>endDate</th>\n      <th>settings</th>\n      <th>lastCycleReached</th>\n      <th>id.engine.id</th>\n      <th>id.engine.maintenanceIndex</th>\n      <th>id.engine.lastTimeConnected</th>\n      <th>id.engine.description</th>\n      <th>id.engine.connected</th>\n      <th>id.cycle</th>\n      <th>...</th>\n      <th>sensorsMin.ax__max</th>\n      <th>sensorsMin.ay__max</th>\n      <th>sensorsMin.az__max</th>\n      <th>sensorsMin.temperature__max</th>\n      <th>sensorsMin.humidity__max</th>\n      <th>sensorsMin.temperatureIndex__max</th>\n      <th>lastCycle</th>\n      <th>labels.ttf</th>\n      <th>labels.bnc</th>\n      <th>labels.mcc</th>\n    </tr>\n  </thead>\n  <tbody>\n    <tr>\n      <th>0</th>\n      <td>0</td>\n      <td>0</td>\n      <td>0</td>\n      <td>False</td>\n      <td>1</td>\n      <td>0</td>\n      <td>0</td>\n      <td>vehicula. Pellentesque tincidunt tempus risus....</td>\n      <td>False</td>\n      <td>0</td>\n      <td>...</td>\n      <td>-77.904986</td>\n      <td>-79.539219</td>\n      <td>-89.343668</td>\n      <td>0.0</td>\n      <td>0.0</td>\n      <td>0.0</td>\n      <td>4</td>\n      <td>4</td>\n      <td>0</td>\n      <td>0</td>\n    </tr>\n    <tr>\n      <th>1</th>\n      <td>0</td>\n      <td>0</td>\n      <td>0</td>\n      <td>False</td>\n      <td>1</td>\n      <td>0</td>\n      <td>0</td>\n      <td>vehicula. Pellentesque tincidunt tempus risus....</td>\n      <td>False</td>\n      <td>1</td>\n      <td>...</td>\n      <td>-88.504482</td>\n      <td>-89.364603</td>\n      <td>-86.998806</td>\n      <td>0.0</td>\n      <td>0.0</td>\n      <td>0.0</td>\n      <td>4</td>\n      <td>3</td>\n      <td>0</td>\n      <td>0</td>\n    </tr>\n    <tr>\n      <th>2</th>\n      <td>0</td>\n      <td>0</td>\n      <td>0</td>\n      <td>False</td>\n      <td>1</td>\n      <td>0</td>\n      <td>0</td>\n      <td>vehicula. Pellentesque tincidunt tempus risus....</td>\n      <td>False</td>\n      <td>2</td>\n      <td>...</td>\n      <td>-88.332153</td>\n      <td>-89.697292</td>\n      <td>-89.405550</td>\n      <td>0.0</td>\n      <td>0.0</td>\n      <td>0.0</td>\n      <td>4</td>\n      <td>2</td>\n      <td>0</td>\n      <td>0</td>\n    </tr>\n    <tr>\n      <th>3</th>\n      <td>0</td>\n      <td>0</td>\n      <td>0</td>\n      <td>False</td>\n      <td>1</td>\n      <td>0</td>\n      <td>0</td>\n      <td>vehicula. Pellentesque tincidunt tempus risus....</td>\n      <td>False</td>\n      <td>3</td>\n      <td>...</td>\n      <td>-75.930179</td>\n      <td>-87.669944</td>\n      <td>-88.780239</td>\n      <td>0.0</td>\n      <td>0.0</td>\n      <td>0.0</td>\n      <td>4</td>\n      <td>1</td>\n      <td>1</td>\n      <td>1</td>\n    </tr>\n    <tr>\n      <th>4</th>\n      <td>0</td>\n      <td>0</td>\n      <td>0</td>\n      <td>False</td>\n      <td>1</td>\n      <td>0</td>\n      <td>0</td>\n      <td>vehicula. Pellentesque tincidunt tempus risus....</td>\n      <td>False</td>\n      <td>4</td>\n      <td>...</td>\n      <td>-85.067708</td>\n      <td>-89.246504</td>\n      <td>-89.532829</td>\n      <td>0.0</td>\n      <td>0.0</td>\n      <td>0.0</td>\n      <td>4</td>\n      <td>0</td>\n      <td>1</td>\n      <td>2</td>\n    </tr>\n  </tbody>\n</table>\n<p>5 rows × 135 columns</p>\n</div>"
     },
     "metadata": {},
     "execution_count": 61
    }
   ],
   "source": [
    "# load training data prepared previously\n",
    "# Load training data prepared previuosly\n",
    "filepath =Config.data_wrangling\n",
    "df = pd.read_csv(filepath)\n",
    "df.fillna(0,inplace=True)\n",
    "df.head()"
   ]
  },
  {
   "cell_type": "markdown",
   "metadata": {},
   "source": [
    "### Regression Modelling:"
   ]
  },
  {
   "cell_type": "markdown",
   "metadata": {},
   "source": [
    "Segment training and test data into features dataframe and labels series.  \n",
    "\n",
    "To make it easy to train models on different set of features, a variable to hold the set of features required was used to subset the original dataframes"
   ]
  },
  {
   "cell_type": "code",
   "execution_count": 62,
   "metadata": {
    "collapsed": false
   },
   "outputs": [],
   "source": [
    "#Prepare data for regression model\n",
    "features =EDA.L\n",
    "\n",
    "\n",
    "X_df = df[features]\n",
    "y_df = df['labels.ttf']"
   ]
  },
  {
   "cell_type": "code",
   "execution_count": 63,
   "metadata": {},
   "outputs": [],
   "source": [
    "def get_regression_metrics(model, actual, predicted):\n",
    "    \n",
    "    \"\"\"Calculate main regression metrics.\n",
    "    \n",
    "    Args:\n",
    "        model (str): The model name identifier\n",
    "        actual (series): Contains the test label values\n",
    "        predicted (series): Contains the predicted values\n",
    "        \n",
    "    Returns:\n",
    "        dataframe: The combined metrics in single dataframe\n",
    "    \n",
    "    \n",
    "    \"\"\"\n",
    "    regr_metrics = {\n",
    "                        'Root Mean Squared Error' : metrics.mean_squared_error(actual, predicted)**0.5,\n",
    "                        'Mean Absolute Error' : metrics.mean_absolute_error(actual, predicted),\n",
    "                        'R^2' : metrics.r2_score(actual, predicted),\n",
    "                        'Explained Variance' : metrics.explained_variance_score(actual, predicted)\n",
    "                   }\n",
    "\n",
    "    #return reg_metrics\n",
    "    df_regr_metrics = pd.DataFrame.from_dict(regr_metrics, orient='index')\n",
    "    df_regr_metrics.columns = [model]\n",
    "    return df_regr_metrics"
   ]
  },
  {
   "cell_type": "markdown",
   "metadata": {},
   "source": [
    "Using the above functions let us model and evaluate some regression algorithms"
   ]
  },
  {
   "cell_type": "code",
   "execution_count": 115,
   "metadata": {},
   "outputs": [],
   "source": [
    "ttf_models =[linear_model.LinearRegression(),linear_model.Lasso(alpha=0.001),linear_model.Ridge(alpha=0.01),DecisionTreeRegressor(max_depth=7, random_state=123),RandomForestRegressor(n_estimators=100, max_features=3, max_depth=4, n_jobs=-1, random_state=1)]\n",
    "ttf_models_names =[\"LinearRegression\",\"LASSO\",\"RIDGE\",\"DecisionTree\",\"RandomForest\"]"
   ]
  },
  {
   "cell_type": "code",
   "execution_count": 83,
   "metadata": {},
   "outputs": [],
   "source": [
    "def consideredData(df):\n",
    "    return df[df['lastCycleReached']==False]\n",
    "def toPredictData(df):\n",
    "    return df[df['lastCycleReached']==False]\n",
    "def tryModelRegression(model,df,features,label):\n",
    "    data = consideredData(df)\n",
    "    X_df = data[features]\n",
    "    Y_df = data[label]\n",
    "    X_train,X_test,Y_train,Y_test =train_test_split(X_df,Y_df,test_size=0.33,random_state=42)\n",
    "    trainedModel = model.fit(X_train,Y_train)\n",
    "    Y_test_predicted = trainedModel.predict(X_test)\n",
    "    modelScore = get_regression_metrics(trainedModel,Y_test,Y_test_predicted)\n",
    "    return modelScore\n",
    "    \n",
    "\n"
   ]
  },
  {
   "cell_type": "code",
   "execution_count": 84,
   "metadata": {
    "tags": []
   },
   "outputs": [
    {
     "output_type": "stream",
     "name": "stderr",
     "text": [
      "/home/mohamedelhedi-benyedder/.local/lib/python3.8/site-packages/sklearn/linear_model/_coordinate_descent.py:530: ConvergenceWarning: Objective did not converge. You might want to increase the number of iterations. Duality gap: 0.001216514631141295, tolerance: 0.0004666666666666666\n  model = cd_fast.enet_coordinate_descent(\n"
     ]
    },
    {
     "output_type": "execute_result",
     "data": {
      "text/plain": [
       "                     index  LogisticRegression     LASSO     RIDGE  \\\n",
       "0  Root Mean Squared Error            2.689891  1.088956  1.698720   \n",
       "1      Mean Absolute Error            2.615927  1.082953  1.589606   \n",
       "2                      R^2           -2.215783  0.472966 -0.282512   \n",
       "3       Explained Variance           -2.041365  0.478761 -0.123043   \n",
       "\n",
       "   DecisionTree  RandomForest  \n",
       "0      1.581139      1.699073  \n",
       "1      1.500000      1.675000  \n",
       "2     -0.111111     -0.283044  \n",
       "3      0.000000     -0.246944  "
      ],
      "text/html": "<div>\n<style scoped>\n    .dataframe tbody tr th:only-of-type {\n        vertical-align: middle;\n    }\n\n    .dataframe tbody tr th {\n        vertical-align: top;\n    }\n\n    .dataframe thead th {\n        text-align: right;\n    }\n</style>\n<table border=\"1\" class=\"dataframe\">\n  <thead>\n    <tr style=\"text-align: right;\">\n      <th></th>\n      <th>index</th>\n      <th>LogisticRegression</th>\n      <th>LASSO</th>\n      <th>RIDGE</th>\n      <th>DecisionTree</th>\n      <th>RandomForest</th>\n    </tr>\n  </thead>\n  <tbody>\n    <tr>\n      <th>0</th>\n      <td>Root Mean Squared Error</td>\n      <td>2.689891</td>\n      <td>1.088956</td>\n      <td>1.698720</td>\n      <td>1.581139</td>\n      <td>1.699073</td>\n    </tr>\n    <tr>\n      <th>1</th>\n      <td>Mean Absolute Error</td>\n      <td>2.615927</td>\n      <td>1.082953</td>\n      <td>1.589606</td>\n      <td>1.500000</td>\n      <td>1.675000</td>\n    </tr>\n    <tr>\n      <th>2</th>\n      <td>R^2</td>\n      <td>-2.215783</td>\n      <td>0.472966</td>\n      <td>-0.282512</td>\n      <td>-0.111111</td>\n      <td>-0.283044</td>\n    </tr>\n    <tr>\n      <th>3</th>\n      <td>Explained Variance</td>\n      <td>-2.041365</td>\n      <td>0.478761</td>\n      <td>-0.123043</td>\n      <td>0.000000</td>\n      <td>-0.246944</td>\n    </tr>\n  </tbody>\n</table>\n</div>"
     },
     "metadata": {},
     "execution_count": 84
    }
   ],
   "source": [
    "score_ttf = pd.DataFrame()\n",
    "for model in ttf_models :\n",
    "    score_ttf = pd.concat([score_ttf,tryModelRegression(model,df,EDA.L,'labels.ttf')],axis=1)\n",
    "score_ttf.columns = ttf_models_names\n",
    "score_ttf.reset_index(inplace=True)\n",
    "score_ttf"
   ]
  },
  {
   "cell_type": "code",
   "execution_count": 85,
   "metadata": {},
   "outputs": [],
   "source": [
    "def selectmodel(score,modelnames):\n",
    "    m = score[modelnames].abs().mean().max()\n",
    "    avg = score[modelnames].abs().mean()\n",
    "    selectedModel = list(avg [avg == m].index)[0]\n",
    "    return selectedModel\n"
   ]
  },
  {
   "source": [
    "### Binary Classifcation:"
   ],
   "cell_type": "markdown",
   "metadata": {}
  },
  {
   "cell_type": "code",
   "execution_count": 86,
   "metadata": {},
   "outputs": [],
   "source": [
    "bnc_models = [LogisticRegression(random_state=123),DecisionTreeClassifier(random_state=123),RandomForestClassifier(n_estimators=50, random_state=123),SVC(kernel='rbf', random_state=123),LinearSVC(random_state=123),GaussianNB()]\n",
    "bnc_models_names=['LogisticRegression','DecisionTreeClassifier','RandomForestClassifier','SVC','LinearSVC','GaussianNB']"
   ]
  },
  {
   "cell_type": "code",
   "execution_count": 87,
   "metadata": {},
   "outputs": [],
   "source": [
    "def bin_class_metrics(modelname, y_test, y_pred):\n",
    "    \n",
    "    \"\"\"Calculate main binary classifcation metrics, plot AUC ROC and Precision-Recall curves.\n",
    "    \n",
    "    Args:\n",
    "        model (str): The model name identifier\n",
    "        y_test (series): Contains the test label values\n",
    "        y_pred (series): Contains the predicted values\n",
    "        y_score (series): Contains the predicted scores\n",
    "        print_out (bool): Print the classification metrics and thresholds values\n",
    "        plot_out (bool): Plot AUC ROC, Precision-Recall, and Threshold curves\n",
    "        \n",
    "    Returns:\n",
    "        dataframe: The combined metrics in single dataframe\n",
    "        \n",
    "        \n",
    "    \"\"\"\n",
    "      \n",
    "    binclass_metrics = {\n",
    "                        'Accuracy' : metrics.accuracy_score(y_test, y_pred),\n",
    "                        'Precision' : metrics.precision_score(y_test, y_pred),\n",
    "                        'Recall' : metrics.recall_score(y_test, y_pred),\n",
    "                        'F1 Score' : metrics.f1_score(y_test, y_pred),\n",
    "                       }\n",
    "\n",
    "    df_metrics = pd.DataFrame.from_dict(binclass_metrics, orient='index')\n",
    "    df_metrics.columns = [modelname]  \n",
    "\n",
    "\n",
    "    \n",
    "\n",
    "    return  df_metrics\n"
   ]
  },
  {
   "cell_type": "code",
   "execution_count": 88,
   "metadata": {},
   "outputs": [],
   "source": [
    "def tryModelBNC(model,modelname,df,features,label,thresh=0.5):\n",
    "    data = consideredData(df)\n",
    "    X_df = df[features]\n",
    "    Y_df = df[label]\n",
    "    X_train,X_test,Y_train,Y_test =train_test_split(X_df,Y_df,test_size=0.33,random_state=42)\n",
    "    trainedModel = model.fit(X_train,Y_train)\n",
    "    Y_test_predicted = trainedModel.predict(X_test)\n",
    "    Y_test_predicted[Y_test_predicted<thresh] = 0\n",
    "    Y_test_predicted[Y_test_predicted>=thresh] = 1\n",
    "    modelScore = bin_class_metrics(modelname, Y_test, Y_test_predicted)\n",
    "    return modelScore"
   ]
  },
  {
   "cell_type": "code",
   "execution_count": 89,
   "metadata": {},
   "outputs": [
    {
     "output_type": "stream",
     "name": "stderr",
     "text": [
      "/home/mohamedelhedi-benyedder/.local/lib/python3.8/site-packages/sklearn/metrics/_classification.py:1248: UndefinedMetricWarning: Precision is ill-defined and being set to 0.0 due to no predicted samples. Use `zero_division` parameter to control this behavior.\n  _warn_prf(average, modifier, msg_start, len(result))\n/home/mohamedelhedi-benyedder/.local/lib/python3.8/site-packages/sklearn/metrics/_classification.py:1248: UndefinedMetricWarning: Precision is ill-defined and being set to 0.0 due to no predicted samples. Use `zero_division` parameter to control this behavior.\n  _warn_prf(average, modifier, msg_start, len(result))\n/home/mohamedelhedi-benyedder/.local/lib/python3.8/site-packages/sklearn/svm/_base.py:985: ConvergenceWarning: Liblinear failed to converge, increase the number of iterations.\n  warnings.warn(\"Liblinear failed to converge, increase \"\n/home/mohamedelhedi-benyedder/.local/lib/python3.8/site-packages/sklearn/metrics/_classification.py:1248: UndefinedMetricWarning: Precision is ill-defined and being set to 0.0 due to no predicted samples. Use `zero_division` parameter to control this behavior.\n  _warn_prf(average, modifier, msg_start, len(result))\n"
     ]
    },
    {
     "output_type": "execute_result",
     "data": {
      "text/plain": [
       "       index  LogisticRegression  DecisionTreeClassifier  \\\n",
       "0   Accuracy            0.500000                     0.5   \n",
       "1  Precision            0.500000                     0.0   \n",
       "2     Recall            1.000000                     0.0   \n",
       "3   F1 Score            0.666667                     0.0   \n",
       "\n",
       "   RandomForestClassifier  SVC  LinearSVC  GaussianNB  \n",
       "0                     0.0  0.5   0.500000         0.5  \n",
       "1                     0.0  0.0   0.500000         0.0  \n",
       "2                     0.0  0.0   1.000000         0.0  \n",
       "3                     0.0  0.0   0.666667         0.0  "
      ],
      "text/html": "<div>\n<style scoped>\n    .dataframe tbody tr th:only-of-type {\n        vertical-align: middle;\n    }\n\n    .dataframe tbody tr th {\n        vertical-align: top;\n    }\n\n    .dataframe thead th {\n        text-align: right;\n    }\n</style>\n<table border=\"1\" class=\"dataframe\">\n  <thead>\n    <tr style=\"text-align: right;\">\n      <th></th>\n      <th>index</th>\n      <th>LogisticRegression</th>\n      <th>DecisionTreeClassifier</th>\n      <th>RandomForestClassifier</th>\n      <th>SVC</th>\n      <th>LinearSVC</th>\n      <th>GaussianNB</th>\n    </tr>\n  </thead>\n  <tbody>\n    <tr>\n      <th>0</th>\n      <td>Accuracy</td>\n      <td>0.500000</td>\n      <td>0.5</td>\n      <td>0.0</td>\n      <td>0.5</td>\n      <td>0.500000</td>\n      <td>0.5</td>\n    </tr>\n    <tr>\n      <th>1</th>\n      <td>Precision</td>\n      <td>0.500000</td>\n      <td>0.0</td>\n      <td>0.0</td>\n      <td>0.0</td>\n      <td>0.500000</td>\n      <td>0.0</td>\n    </tr>\n    <tr>\n      <th>2</th>\n      <td>Recall</td>\n      <td>1.000000</td>\n      <td>0.0</td>\n      <td>0.0</td>\n      <td>0.0</td>\n      <td>1.000000</td>\n      <td>0.0</td>\n    </tr>\n    <tr>\n      <th>3</th>\n      <td>F1 Score</td>\n      <td>0.666667</td>\n      <td>0.0</td>\n      <td>0.0</td>\n      <td>0.0</td>\n      <td>0.666667</td>\n      <td>0.0</td>\n    </tr>\n  </tbody>\n</table>\n</div>"
     },
     "metadata": {},
     "execution_count": 89
    }
   ],
   "source": [
    "score_bnc = pd.DataFrame()\n",
    "for i in range(len(bnc_models)) :\n",
    "\n",
    "    score_bnc = pd.concat([score_bnc,tryModelBNC(bnc_models[i],bnc_models_names[i],df,EDA.L,'labels.bnc')],axis=1)\n",
    "score_bnc.columns = bnc_models_names\n",
    "score_bnc.reset_index(inplace=True)\n",
    "score_bnc"
   ]
  },
  {
   "cell_type": "code",
   "execution_count": 90,
   "metadata": {},
   "outputs": [
    {
     "output_type": "execute_result",
     "data": {
      "text/plain": [
       "0.4166666666666667"
      ]
     },
     "metadata": {},
     "execution_count": 90
    }
   ],
   "source": [
    "score_bnc.mean(axis=1).max()"
   ]
  },
  {
   "source": [
    "### Mutli Classifcation:"
   ],
   "cell_type": "markdown",
   "metadata": {}
  },
  {
   "cell_type": "code",
   "execution_count": 91,
   "metadata": {},
   "outputs": [],
   "source": [
    "def multiclass_metrics(modelname, y_test, y_pred):\n",
    "    \n",
    "    \"\"\"Calculate main multiclass classifcation metrics\n",
    "    Args:\n",
    "        model (str): The model name identifier\n",
    "        y_test (series): Contains the test label values\n",
    "        y_pred (series): Contains the predicted values\n",
    "        \n",
    "        \n",
    "    Returns:\n",
    "        dataframe: The combined metrics in single dataframe\n",
    "        \n",
    "  \n",
    "    \n",
    "    \"\"\"\n",
    "    multiclass_metrics = {\n",
    "                            'Accuracy' : metrics.accuracy_score(y_test, y_pred),\n",
    "                            'macro F1' : metrics.f1_score(y_test, y_pred, average='macro'),\n",
    "                            'micro F1' : metrics.f1_score(y_test, y_pred, average='micro'),\n",
    "                            'macro Precision' : metrics.precision_score(y_test, y_pred,  average='macro'),\n",
    "                            'micro Precision' : metrics.precision_score(y_test, y_pred,  average='micro'),\n",
    "                            'macro Recall' : metrics.recall_score(y_test, y_pred,  average='macro'),\n",
    "                            'micro Recall' : metrics.recall_score(y_test, y_pred,average='macro'),\n",
    "                        }\n",
    "    \n",
    "    df_metrics = pd.DataFrame.from_dict(multiclass_metrics, orient='index')\n",
    "    df_metrics.columns = [model]\n",
    "\n",
    "   \n",
    "    \n",
    "    return df_metrics"
   ]
  },
  {
   "cell_type": "code",
   "execution_count": 92,
   "metadata": {},
   "outputs": [],
   "source": [
    "def tryModelMCC(model,modelname,df,features,label,thresh=0.5):\n",
    "    data = consideredData(df)\n",
    "    X_df = df[features]\n",
    "    Y_df = df[label]\n",
    "    X_train,X_test,Y_train,Y_test =train_test_split(X_df,Y_df,test_size=0.33,random_state=42)\n",
    "    trainedModel = model.fit(X_train,Y_train)\n",
    "    Y_test_predicted = trainedModel.predict(X_test)\n",
    "    Y_test_predicted = np.round(Y_test_predicted)\n",
    "    modelScore = multiclass_metrics(modelname, Y_test, Y_test_predicted)\n",
    "    return modelScore "
   ]
  },
  {
   "cell_type": "code",
   "execution_count": 93,
   "metadata": {},
   "outputs": [
    {
     "output_type": "stream",
     "name": "stderr",
     "text": [
      "/home/mohamedelhedi-benyedder/.local/lib/python3.8/site-packages/sklearn/metrics/_classification.py:1248: UndefinedMetricWarning: Precision is ill-defined and being set to 0.0 in labels with no predicted samples. Use `zero_division` parameter to control this behavior.\n  _warn_prf(average, modifier, msg_start, len(result))\n/home/mohamedelhedi-benyedder/.local/lib/python3.8/site-packages/sklearn/metrics/_classification.py:1248: UndefinedMetricWarning: Precision is ill-defined and being set to 0.0 in labels with no predicted samples. Use `zero_division` parameter to control this behavior.\n  _warn_prf(average, modifier, msg_start, len(result))\n/home/mohamedelhedi-benyedder/.local/lib/python3.8/site-packages/sklearn/metrics/_classification.py:1248: UndefinedMetricWarning: Precision is ill-defined and being set to 0.0 in labels with no predicted samples. Use `zero_division` parameter to control this behavior.\n  _warn_prf(average, modifier, msg_start, len(result))\n/home/mohamedelhedi-benyedder/.local/lib/python3.8/site-packages/sklearn/svm/_base.py:985: ConvergenceWarning: Liblinear failed to converge, increase the number of iterations.\n  warnings.warn(\"Liblinear failed to converge, increase \"\n/home/mohamedelhedi-benyedder/.local/lib/python3.8/site-packages/sklearn/metrics/_classification.py:1248: UndefinedMetricWarning: Precision is ill-defined and being set to 0.0 in labels with no predicted samples. Use `zero_division` parameter to control this behavior.\n  _warn_prf(average, modifier, msg_start, len(result))\n/home/mohamedelhedi-benyedder/.local/lib/python3.8/site-packages/sklearn/metrics/_classification.py:1248: UndefinedMetricWarning: Precision is ill-defined and being set to 0.0 in labels with no predicted samples. Use `zero_division` parameter to control this behavior.\n  _warn_prf(average, modifier, msg_start, len(result))\n"
     ]
    },
    {
     "output_type": "execute_result",
     "data": {
      "text/plain": [
       "             index  LogisticRegression  DecisionTreeClassifier  \\\n",
       "0         Accuracy            0.500000                0.500000   \n",
       "1         macro F1            0.333333                0.333333   \n",
       "2         micro F1            0.500000                0.500000   \n",
       "3  macro Precision            0.250000                0.250000   \n",
       "4  micro Precision            0.500000                0.500000   \n",
       "5     macro Recall            0.500000                0.500000   \n",
       "6     micro Recall            0.500000                0.500000   \n",
       "\n",
       "   RandomForestClassifier       SVC  LinearSVC  GaussianNB  \n",
       "0                     0.0  0.500000   0.500000    0.500000  \n",
       "1                     0.0  0.333333   0.333333    0.333333  \n",
       "2                     0.0  0.500000   0.500000    0.500000  \n",
       "3                     0.0  0.250000   0.250000    0.250000  \n",
       "4                     0.0  0.500000   0.500000    0.500000  \n",
       "5                     0.0  0.500000   0.500000    0.500000  \n",
       "6                     0.0  0.500000   0.500000    0.500000  "
      ],
      "text/html": "<div>\n<style scoped>\n    .dataframe tbody tr th:only-of-type {\n        vertical-align: middle;\n    }\n\n    .dataframe tbody tr th {\n        vertical-align: top;\n    }\n\n    .dataframe thead th {\n        text-align: right;\n    }\n</style>\n<table border=\"1\" class=\"dataframe\">\n  <thead>\n    <tr style=\"text-align: right;\">\n      <th></th>\n      <th>index</th>\n      <th>LogisticRegression</th>\n      <th>DecisionTreeClassifier</th>\n      <th>RandomForestClassifier</th>\n      <th>SVC</th>\n      <th>LinearSVC</th>\n      <th>GaussianNB</th>\n    </tr>\n  </thead>\n  <tbody>\n    <tr>\n      <th>0</th>\n      <td>Accuracy</td>\n      <td>0.500000</td>\n      <td>0.500000</td>\n      <td>0.0</td>\n      <td>0.500000</td>\n      <td>0.500000</td>\n      <td>0.500000</td>\n    </tr>\n    <tr>\n      <th>1</th>\n      <td>macro F1</td>\n      <td>0.333333</td>\n      <td>0.333333</td>\n      <td>0.0</td>\n      <td>0.333333</td>\n      <td>0.333333</td>\n      <td>0.333333</td>\n    </tr>\n    <tr>\n      <th>2</th>\n      <td>micro F1</td>\n      <td>0.500000</td>\n      <td>0.500000</td>\n      <td>0.0</td>\n      <td>0.500000</td>\n      <td>0.500000</td>\n      <td>0.500000</td>\n    </tr>\n    <tr>\n      <th>3</th>\n      <td>macro Precision</td>\n      <td>0.250000</td>\n      <td>0.250000</td>\n      <td>0.0</td>\n      <td>0.250000</td>\n      <td>0.250000</td>\n      <td>0.250000</td>\n    </tr>\n    <tr>\n      <th>4</th>\n      <td>micro Precision</td>\n      <td>0.500000</td>\n      <td>0.500000</td>\n      <td>0.0</td>\n      <td>0.500000</td>\n      <td>0.500000</td>\n      <td>0.500000</td>\n    </tr>\n    <tr>\n      <th>5</th>\n      <td>macro Recall</td>\n      <td>0.500000</td>\n      <td>0.500000</td>\n      <td>0.0</td>\n      <td>0.500000</td>\n      <td>0.500000</td>\n      <td>0.500000</td>\n    </tr>\n    <tr>\n      <th>6</th>\n      <td>micro Recall</td>\n      <td>0.500000</td>\n      <td>0.500000</td>\n      <td>0.0</td>\n      <td>0.500000</td>\n      <td>0.500000</td>\n      <td>0.500000</td>\n    </tr>\n  </tbody>\n</table>\n</div>"
     },
     "metadata": {},
     "execution_count": 93
    }
   ],
   "source": [
    "score_mcc = pd.DataFrame()\n",
    "for i in range(len(bnc_models)) :\n",
    "\n",
    "    score_mcc = pd.concat([score_mcc,tryModelMCC(bnc_models[i],bnc_models_names[i],df,EDA.L,'labels.bnc')],axis=1)\n",
    "score_mcc.columns = bnc_models_names\n",
    "score_mcc.reset_index(inplace=True)\n",
    "score_mcc"
   ]
  },
  {
   "cell_type": "code",
   "execution_count": 94,
   "metadata": {},
   "outputs": [
    {
     "output_type": "execute_result",
     "data": {
      "text/plain": [
       "['LogisticRegression', 'LogisticRegression', 'LogisticRegression']"
      ]
     },
     "metadata": {},
     "execution_count": 94
    }
   ],
   "source": [
    "SelectedModels = [selectmodel(score_ttf,ttf_models_names),selectmodel(score_bnc,bnc_models_names),selectmodel(score_mcc,bnc_models_names)]\n",
    "SelectedModels\n"
   ]
  },
  {
   "cell_type": "code",
   "execution_count": 95,
   "metadata": {},
   "outputs": [
    {
     "output_type": "execute_result",
     "data": {
      "text/plain": [
       "[0, 0, 0]"
      ]
     },
     "metadata": {},
     "execution_count": 95
    }
   ],
   "source": [
    "SelectedModelsindexs = [ttf_models_names.index(SelectedModels[0]),bnc_models_names.index(SelectedModels[1]),bnc_models_names.index(SelectedModels[2])]\n",
    "SelectedModelsindexs"
   ]
  },
  {
   "cell_type": "code",
   "execution_count": 98,
   "metadata": {},
   "outputs": [],
   "source": [
    "def RunModels(models,df,features):\n",
    "    datatrain = consideredData(df)\n",
    "    dataToPredict = toPredictData(df)\n",
    "    X_train = datatrain[features]\n",
    "    #ttf\n",
    "    Y_train_ttf = datatrain['labels.ttf']\n",
    "    trainedModel_ttf = ttf_models[models[0]].fit(X_train,Y_train_ttf)\n",
    "    dataToPredict['labels.ttf']= trainedModel_ttf.predict(dataToPredict[features])\n",
    "    #bnc \n",
    "    Y_train_bnc = datatrain['labels.bnc']\n",
    "    trainedModel_bnc = bnc_models[models[1]].fit(X_train,Y_train_bnc)\n",
    "    dataToPredict['labels.bnc'] = trainedModel_bnc.predict(dataToPredict[features])\n",
    "    #mcc \n",
    "    Y_train_mcc = datatrain['labels.mcc']\n",
    "    trainedModel_mcc = bnc_models[models[2]].fit(X_train,Y_train_mcc)\n",
    "    dataToPredict['labels.mcc']= trainedModel_mcc.predict(dataToPredict[features])\n",
    "    return dataToPredict\n",
    "    "
   ]
  },
  {
   "cell_type": "code",
   "execution_count": 114,
   "metadata": {},
   "outputs": [
    {
     "output_type": "stream",
     "name": "stderr",
     "text": [
      "/home/mohamedelhedi-benyedder/.local/lib/python3.8/site-packages/sklearn/linear_model/_logistic.py:763: ConvergenceWarning: lbfgs failed to converge (status=1):\nSTOP: TOTAL NO. of ITERATIONS REACHED LIMIT.\n\nIncrease the number of iterations (max_iter) or scale the data as shown in:\n    https://scikit-learn.org/stable/modules/preprocessing.html\nPlease also refer to the documentation for alternative solver options:\n    https://scikit-learn.org/stable/modules/linear_model.html#logistic-regression\n  n_iter_i = _check_optimize_result(\n"
     ]
    },
    {
     "output_type": "execute_result",
     "data": {
      "text/plain": [
       "   id.engine.id  id.engine.maintenanceIndex  id.engine.lastTimeConnected  \\\n",
       "0             1                           0                            0   \n",
       "1             1                           0                            0   \n",
       "2             1                           0                            0   \n",
       "3             1                           0                            0   \n",
       "4             1                           0                            0   \n",
       "\n",
       "                               id.engine.description  id.engine.connected  \\\n",
       "0  vehicula. Pellentesque tincidunt tempus risus....                False   \n",
       "1  vehicula. Pellentesque tincidunt tempus risus....                False   \n",
       "2  vehicula. Pellentesque tincidunt tempus risus....                False   \n",
       "3  vehicula. Pellentesque tincidunt tempus risus....                False   \n",
       "4  vehicula. Pellentesque tincidunt tempus risus....                False   \n",
       "\n",
       "   id.cycle  id.maintenanceIndex    labels.ttf  labels.bnc  labels.mcc  \n",
       "0         0                    0  4.000000e+00           0           0  \n",
       "1         1                    0  3.000000e+00           0           0  \n",
       "2         2                    0  2.000000e+00           0           0  \n",
       "3         3                    0  1.000000e+00           1           1  \n",
       "4         4                    0 -6.394885e-14           1           2  "
      ],
      "text/html": "<div>\n<style scoped>\n    .dataframe tbody tr th:only-of-type {\n        vertical-align: middle;\n    }\n\n    .dataframe tbody tr th {\n        vertical-align: top;\n    }\n\n    .dataframe thead th {\n        text-align: right;\n    }\n</style>\n<table border=\"1\" class=\"dataframe\">\n  <thead>\n    <tr style=\"text-align: right;\">\n      <th></th>\n      <th>id.engine.id</th>\n      <th>id.engine.maintenanceIndex</th>\n      <th>id.engine.lastTimeConnected</th>\n      <th>id.engine.description</th>\n      <th>id.engine.connected</th>\n      <th>id.cycle</th>\n      <th>id.maintenanceIndex</th>\n      <th>labels.ttf</th>\n      <th>labels.bnc</th>\n      <th>labels.mcc</th>\n    </tr>\n  </thead>\n  <tbody>\n    <tr>\n      <th>0</th>\n      <td>1</td>\n      <td>0</td>\n      <td>0</td>\n      <td>vehicula. Pellentesque tincidunt tempus risus....</td>\n      <td>False</td>\n      <td>0</td>\n      <td>0</td>\n      <td>4.000000e+00</td>\n      <td>0</td>\n      <td>0</td>\n    </tr>\n    <tr>\n      <th>1</th>\n      <td>1</td>\n      <td>0</td>\n      <td>0</td>\n      <td>vehicula. Pellentesque tincidunt tempus risus....</td>\n      <td>False</td>\n      <td>1</td>\n      <td>0</td>\n      <td>3.000000e+00</td>\n      <td>0</td>\n      <td>0</td>\n    </tr>\n    <tr>\n      <th>2</th>\n      <td>1</td>\n      <td>0</td>\n      <td>0</td>\n      <td>vehicula. Pellentesque tincidunt tempus risus....</td>\n      <td>False</td>\n      <td>2</td>\n      <td>0</td>\n      <td>2.000000e+00</td>\n      <td>0</td>\n      <td>0</td>\n    </tr>\n    <tr>\n      <th>3</th>\n      <td>1</td>\n      <td>0</td>\n      <td>0</td>\n      <td>vehicula. Pellentesque tincidunt tempus risus....</td>\n      <td>False</td>\n      <td>3</td>\n      <td>0</td>\n      <td>1.000000e+00</td>\n      <td>1</td>\n      <td>1</td>\n    </tr>\n    <tr>\n      <th>4</th>\n      <td>1</td>\n      <td>0</td>\n      <td>0</td>\n      <td>vehicula. Pellentesque tincidunt tempus risus....</td>\n      <td>False</td>\n      <td>4</td>\n      <td>0</td>\n      <td>-6.394885e-14</td>\n      <td>1</td>\n      <td>2</td>\n    </tr>\n  </tbody>\n</table>\n</div>"
     },
     "metadata": {},
     "execution_count": 114
    }
   ],
   "source": [
    "cols = []\n",
    "for k in df.columns.tolist():\n",
    "    if (('id.' in k) or ('labels.' in k)):\n",
    "        cols.append(k)\n",
    "predictions =RunModels(SelectedModelsindexs,df,EDA.L)[cols]\n",
    "predictions\n"
   ]
  }
 ],
 "metadata": {
  "anaconda-cloud": {},
  "kernelspec": {
   "display_name": "Python 3",
   "language": "python",
   "name": "python3"
  },
  "language_info": {
   "codemirror_mode": {
    "name": "ipython",
    "version": 3
   },
   "file_extension": ".py",
   "mimetype": "text/x-python",
   "name": "python",
   "nbconvert_exporter": "python",
   "pygments_lexer": "ipython3",
   "version": "3.8.5"
  }
 },
 "nbformat": 4,
 "nbformat_minor": 2
}